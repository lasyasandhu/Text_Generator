{
 "cells": [
  {
   "attachments": {},
   "cell_type": "markdown",
   "metadata": {},
   "source": [
    "1. Data Processing"
   ]
  },
  {
   "cell_type": "code",
   "execution_count": 2,
   "metadata": {},
   "outputs": [],
   "source": [
    "import tensorflow as tf\n",
    "import string\n",
    "import requests"
   ]
  },
  {
   "cell_type": "code",
   "execution_count": 3,
   "metadata": {},
   "outputs": [
    {
     "data": {
      "text/plain": [
       "'THE BOY WHO LIVED Mr and Mrs Dursley of number four Privet Drive were proud to say that they were perfectly normal thank you very much .They were the last people youd expect to be involved in anything strange or mysterious because they just didnt hold with such nonsense .Mr Dursley was the director of a firm called Grunnings which made drills .He was a big beefy man with hardly any neck although he did have a very large mustache .Mrs Dursley was thin and blonde and had nearly twice the usual amount of neck which came in very useful as she spent so much of her time craning over garden fences spying on the neighbors .The Dursley s had a small son called Dudley and in their opinion there was no finer boy anywhere .The Dursleys had everything they wanted but they also had a secret and their greatest fear was that somebody would discover it .They didnt think they could bear it if anyone found out about the Potters .Mrs Potter was Mrs Dursleys sister but they hadnt met for several years in fact Mrs Dursley pretended she didnt have a sister because her sister and her goodfornothing husband were as unDursleyish as it was possible to be .The Dursleys shuddered to think what the neighbors would say if the Potters arrived in the street .The Dursleys knew that the Potters had a small son too but they had never even seen him .This boy was another good reason for keeping the Potters away they didnt want Dudley mixing with a child like that .When Mr and Mrs Dursley woke up on the dull gray Tuesday our story starts there was nothing about the cloudy sky outside to suggest that strange and mysterious things would soon be happening all over the country .Mr Dursley hummed as he picked out his most boring tie for work and Mrs Dursley gossiped away happily as she wrestled a screaming Dudley into his high chair .None of them noticed a large tawny owl flutter past the window .At half past eight Mr Dursley picked up his briefcase pecked Mrs Dursley on the cheek and tried to kiss Dudley goodbye but missed because Dudley was now having a tantrum and throwing his cereal at the walls .Little tyke chortled Mr Dursley as he left the house .He got into his car and backed out of number fours drive .It was on the corner of the street that he noticed the first sign of something peculiar a cat reading a map .For a second Mr Dursley didnt realize what he had seen then he jerked his head around to look again .There was a tabby cat standing on the corner of Privet Drive but there wasnt a map in sight .What could he have been thinking of ?It must have been a trick of the light .Mr Dursley blinked and stared at the cat .It stared back .As Mr Dursley drove around the corner and up the road he watched the cat in his mirror .It was now reading the sign that said Privet Drive no looking at the sign cats couldnt read maps or signs .Mr Dursley gave himself a little shake and put the cat out of his mind .As he drove toward town he thought of nothing except a large order of drills he was hoping to get that day .But on the edge of town drills were driven out of his mind by something else .As he sat in the usual morning traffic jam he couldnt help noticing that there seemed to be a lot of strangely dressed people about .People in cloaks .Mr Dursley couldnt bear people who dressed in funny clothes the getups you saw on young people !He supposed this was some stupid new fashion .He drummed his fingers on the steering wheel and his eyes fell on a huddle of these weirdos standing quite close by .They were whispering excitedly together .Mr Dursley was enraged to see that a couple of them werent young at all why that man had to be older than he was and wearing an emeraldgreen cloak !The nerve of him !But then it struck Mr Dursley that this was probably some silly stunt these people were obviously collecting for something .yes that would be it .The traffic moved on and a few minutes later Mr Dursley arrived in the Grunnings parking lot his mind back on drills .Mr Dursley always sat with his back to the window in his office on the ninth floor .If he hadnt he might have found it harder to concentrate on drills that morning .He didnt see the owls swooping past in broad daylight though people down in the street did they pointed and gazed openmouthed as owl after owl sped overhead .Most of them had never seen an owl even at nighttime .Mr Dursley however had a perfectly normal owlfree morning .He yelled at five different people .He made several important telephone calls and shouted a bit more .He was in a very good mood until lunchtime when he thought hed stretch his legs and walk across the road to buy himself a bun from the bakery .Hed forgotten all about the people in cloaks until he passed a group of them next to the bakers .He eyed them angrily as he passed .He didnt know why but they made him uneasy .This bunch were whispering excitedly too and he couldnt see a single collecting tin .It was on his way back past them clutching a large doughnut in a bag that he caught a few words of what they were saying .The Potters thats right thats what I heard yes their son Harry Mr Dursley stopped dead .Fear flooded him .He looked back at the whisperers as if he wanted to say something to them but thought better of it .He dashed back across the road hurried up to his office snapped at his secretary not to disturb him seized his telephone and had almost finished dialing his home number when he changed his mind .He put the receiver back down and stroked his mustache thinking .no he was being stupid .Potter wasnt such an unusual name .He was sure there were lots of people called Potter who had a son called Harry .Come to think of it he wasnt even sure his nephew was called Harry .Hed never even seen the boy .It might have been Harvey .Or Harold .There was no point in worrying Mrs Dursley she always got so upset at any mention of her sister .He didnt blame her if hed had a sister like that .but all the same those people in cloaks .He found it a lot harder to concentrate on drills that afternoon and when he left the building at five oclock he was still so worried that he walked straight into someone just outside the door .Sorry he grunted as the tiny old man stumbled and almost fell .It was a few seconds before Mr Dursley realized that the man was wearing a violet cloak .He didnt seem at all upset at being almost knocked to the ground .On the contrary his face split into a wide smile and he said in a squeaky voice that made passersby stare Dont be sorry my dear sir for nothing could upset me today !Rejoice for You KnowWho has gone at last !Even Muggles like yourself should be celebrating this happy happy day !And the old man hugged Mr Dursley around the middle and walked off .Mr Dursley stood rooted to the spot .He had been hugged by a complete stranger .He also thought he had been called a Muggle whatever that was .He was rattled .He hurried to his car and set off for home hoping he was imagining things which he had never hoped before because he didnt approve of imagination .As he pulled into the driveway of number four the first thing he saw and it didnt improve his mood was the tabby cat hed spotted that morning .It was now sitting on his garden wall .He was sure it was the same one it had the same markings around its eyes .Shoo !said Mr Dursley loudly .The cat didnt move .It just gave him a stern look .Was this normal cat behavior ?Mr Dursley wondered .Trying to pull himself together he let himself into the house .He was still determined not to mention anything to his wife .Mrs Dursley had had a nice normal day .She told him over dinner all about Mrs Next Doors problems with her daughter and how Dudley had learned a new word Wont .Mr Dursley tried to act normally .When Dudley had been put to bed he went into the living room in time to catch the last report on the evening news And finally birdwatchers everywhere have reported that the nations owls have been behaving very unusually today .Although owls normally hunt at night and are hardly ever seen in daylight there have been hundreds of sightings of these birds flying in every direction since sunrise .Experts are unable to explain why the owls have suddenly changed their sleeping pattern .The newscaster allowed himself a grin .Most mysterious .And now over to Jim McGuffin with the weather .Going to be any more showers of owls tonight Jim ?Well Ted said the weatherman I dont know about that but its not only the owls that have been acting oddly today .Viewers as far apart as Kent Yorkshire and Dundee have been phoning in to tell me that instead of the rain I promised yesterday theyve had a downpour of shooting stars !Perhaps people have been celebrating Bonfire Night early its not until next week folks !But I can promise a wet night tonight .Mr Dursley sat frozen in his armchair .Shooting stars all over Britain ?Owls flying by daylight ?Mysterious people in cloaks all over the place ?And a whisper a whisper about the Potters .Mrs Dursley came into the living room carrying two cups of tea .It was no good .Hed have to say something to her .He cleared his throat nervously .Er Petunia dear you havent heard from your sister lately have you ?As he had expected Mrs Dursley looked shocked and angry .After all they normally pretended she didnt have a sister .No she said sharply .Why ?Funny stuff on the news Mr Dursley mumbled .Owls .shooting stars .and there were a lot of funnylooking people in town today .So ?snapped Mrs Dursley .Well I just thought .maybe .it was something to do with .you know .her crowd .Mrs Dursley sipped her tea through pursed lips .Mr Dursley wondered whether he dared tell her hed heard the name Potter .He decided he didnt dare .Instead he said as casually as he could Their son hed be about Dudleys age now wouldnt he ?I suppose so said Mrs Dursley stiffly .Whats his name again ?Howard isnt it ?Harry .Nasty common name if you ask me .Oh yes said Mr Dursley his heart sinking horribly .Yes I quite agree .He didnt say ano'"
      ]
     },
     "execution_count": 3,
     "metadata": {},
     "output_type": "execute_result"
    }
   ],
   "source": [
    "dataset= open('./data/Harry_Potter_all_books_preprocessed.txt', 'r',encoding='utf-8').read()\n",
    "\n",
    "dataset[0:10000]"
   ]
  },
  {
   "cell_type": "code",
   "execution_count": 4,
   "metadata": {},
   "outputs": [],
   "source": [
    "def clean_text(doc):\n",
    "  tokens = doc.split()\n",
    "  table = str.maketrans('', '', string.punctuation)\n",
    "  tokens = [w.translate(table) for w in tokens]\n",
    "  tokens = [word for word in tokens if word.isalpha()]\n",
    "  tokens = [word.lower() for word in tokens]\n",
    "  return tokens\n",
    "\n"
   ]
  },
  {
   "cell_type": "code",
   "execution_count": 5,
   "metadata": {},
   "outputs": [
    {
     "name": "stdout",
     "output_type": "stream",
     "text": [
      "['the', 'boy', 'who', 'lived', 'mr', 'and', 'mrs', 'dursley', 'of', 'number', 'four', 'privet', 'drive', 'were', 'proud', 'to', 'say', 'that', 'they', 'were', 'perfectly', 'normal', 'thank', 'you', 'very', 'much', 'they', 'were', 'the', 'last', 'people', 'youd', 'expect', 'to', 'be', 'involved', 'in', 'anything', 'strange', 'or', 'mysterious', 'because', 'they', 'just', 'didnt', 'hold', 'with', 'such', 'nonsense', 'mr']\n"
     ]
    }
   ],
   "source": [
    "tokens=clean_text(dataset)\n",
    "print(tokens[0:50])"
   ]
  },
  {
   "cell_type": "code",
   "execution_count": 6,
   "metadata": {},
   "outputs": [
    {
     "data": {
      "text/plain": [
       "1086486"
      ]
     },
     "execution_count": 6,
     "metadata": {},
     "output_type": "execute_result"
    }
   ],
   "source": [
    "len(tokens)"
   ]
  },
  {
   "cell_type": "code",
   "execution_count": 7,
   "metadata": {},
   "outputs": [
    {
     "name": "stdout",
     "output_type": "stream",
     "text": [
      "499951\n"
     ]
    }
   ],
   "source": [
    "length = 50 + 1\n",
    "lines = []\n",
    "\n",
    "for i in range(length, len(tokens)):\n",
    "  seq = tokens[i-length:i]\n",
    "  line = ' '.join(seq)\n",
    "  lines.append(line)\n",
    "  if i>500000:\n",
    "    break\n",
    "\n",
    "print(len(lines))"
   ]
  },
  {
   "cell_type": "code",
   "execution_count": 8,
   "metadata": {},
   "outputs": [
    {
     "data": {
      "text/plain": [
       "'the boy who lived mr and mrs dursley of number four privet drive were proud to say that they were perfectly normal thank you very much they were the last people youd expect to be involved in anything strange or mysterious because they just didnt hold with such nonsense mr dursley'"
      ]
     },
     "execution_count": 8,
     "metadata": {},
     "output_type": "execute_result"
    }
   ],
   "source": [
    "lines[0]"
   ]
  },
  {
   "cell_type": "markdown",
   "metadata": {},
   "source": [
    "2. Building the LSTM Model and Preparing X & Y"
   ]
  },
  {
   "cell_type": "code",
   "execution_count": 9,
   "metadata": {},
   "outputs": [],
   "source": [
    "import numpy as np\n",
    "from tensorflow import keras\n",
    "from keras.preprocessing.text import Tokenizer\n",
    "from keras.utils import to_categorical\n",
    "from keras.models import Sequential\n",
    "from keras.layers import Dense, LSTM,  Embedding\n",
    "\n",
    "from keras_preprocessing.sequence import pad_sequences"
   ]
  },
  {
   "cell_type": "code",
   "execution_count": 10,
   "metadata": {},
   "outputs": [],
   "source": [
    "tokenizer = Tokenizer()\n",
    "tokenizer.fit_on_texts(lines)\n",
    "sequences = tokenizer.texts_to_sequences(lines)"
   ]
  },
  {
   "cell_type": "code",
   "execution_count": 11,
   "metadata": {},
   "outputs": [],
   "source": [
    "sequences = np.array(sequences)\n",
    "X, y = sequences[:, :-1], sequences[:,-1]"
   ]
  },
  {
   "cell_type": "code",
   "execution_count": 12,
   "metadata": {},
   "outputs": [
    {
     "data": {
      "text/plain": [
       "array([   1,  228,   51, 1570,   82,    2,  147,  897,    5,  680,  439,\n",
       "        928,  787,   26, 2040,    3,  177,   17,   21,   26, 1339,  887,\n",
       "        988,   13,   59,  155,   21,   26,    1,  138,  159,  450, 1008,\n",
       "          3,   31, 2189,   11,  182,  864,  120, 2442,  164,   21,   68,\n",
       "         78,  743,   22,  593, 3062,   82])"
      ]
     },
     "execution_count": 12,
     "metadata": {},
     "output_type": "execute_result"
    }
   ],
   "source": [
    "X[0]"
   ]
  },
  {
   "cell_type": "code",
   "execution_count": 13,
   "metadata": {},
   "outputs": [],
   "source": [
    "vocab_size=len(tokenizer.word_index)+1"
   ]
  },
  {
   "cell_type": "code",
   "execution_count": 14,
   "metadata": {},
   "outputs": [],
   "source": [
    "y=to_categorical(y,num_classes=vocab_size)\n"
   ]
  },
  {
   "cell_type": "code",
   "execution_count": 15,
   "metadata": {},
   "outputs": [],
   "source": [
    "seq_length=X.shape[1]"
   ]
  },
  {
   "attachments": {},
   "cell_type": "markdown",
   "metadata": {},
   "source": [
    "LSTM Model"
   ]
  },
  {
   "cell_type": "code",
   "execution_count": 16,
   "metadata": {},
   "outputs": [
    {
     "name": "stderr",
     "output_type": "stream",
     "text": [
      "2024-06-05 17:05:05.968037: I tensorflow/core/common_runtime/executor.cc:1197] [/device:CPU:0] (DEBUG INFO) Executor start aborting (this does not indicate an error and you can ignore this message): INVALID_ARGUMENT: You must feed a value for placeholder tensor 'gradients/split_2_grad/concat/split_2/split_dim' with dtype int32\n",
      "\t [[{{node gradients/split_2_grad/concat/split_2/split_dim}}]]\n",
      "2024-06-05 17:05:05.968902: I tensorflow/core/common_runtime/executor.cc:1197] [/device:CPU:0] (DEBUG INFO) Executor start aborting (this does not indicate an error and you can ignore this message): INVALID_ARGUMENT: You must feed a value for placeholder tensor 'gradients/split_grad/concat/split/split_dim' with dtype int32\n",
      "\t [[{{node gradients/split_grad/concat/split/split_dim}}]]\n",
      "2024-06-05 17:05:05.969357: I tensorflow/core/common_runtime/executor.cc:1197] [/device:CPU:0] (DEBUG INFO) Executor start aborting (this does not indicate an error and you can ignore this message): INVALID_ARGUMENT: You must feed a value for placeholder tensor 'gradients/split_1_grad/concat/split_1/split_dim' with dtype int32\n",
      "\t [[{{node gradients/split_1_grad/concat/split_1/split_dim}}]]\n",
      "2024-06-05 17:05:06.053018: I tensorflow/core/common_runtime/executor.cc:1197] [/device:CPU:0] (DEBUG INFO) Executor start aborting (this does not indicate an error and you can ignore this message): INVALID_ARGUMENT: You must feed a value for placeholder tensor 'gradients/split_2_grad/concat/split_2/split_dim' with dtype int32\n",
      "\t [[{{node gradients/split_2_grad/concat/split_2/split_dim}}]]\n",
      "2024-06-05 17:05:06.053492: I tensorflow/core/common_runtime/executor.cc:1197] [/device:CPU:0] (DEBUG INFO) Executor start aborting (this does not indicate an error and you can ignore this message): INVALID_ARGUMENT: You must feed a value for placeholder tensor 'gradients/split_grad/concat/split/split_dim' with dtype int32\n",
      "\t [[{{node gradients/split_grad/concat/split/split_dim}}]]\n",
      "2024-06-05 17:05:06.053924: I tensorflow/core/common_runtime/executor.cc:1197] [/device:CPU:0] (DEBUG INFO) Executor start aborting (this does not indicate an error and you can ignore this message): INVALID_ARGUMENT: You must feed a value for placeholder tensor 'gradients/split_1_grad/concat/split_1/split_dim' with dtype int32\n",
      "\t [[{{node gradients/split_1_grad/concat/split_1/split_dim}}]]\n"
     ]
    }
   ],
   "source": [
    "model=Sequential()\n",
    "model.add(Embedding(vocab_size,50,input_length=seq_length))\n",
    "model.add(LSTM(100,return_sequences=True))\n",
    "model.add(LSTM(100))\n",
    "model.add(Dense(100,activation='relu'))\n",
    "model.add(Dense(vocab_size,activation='softmax'))"
   ]
  },
  {
   "cell_type": "code",
   "execution_count": 17,
   "metadata": {},
   "outputs": [
    {
     "name": "stdout",
     "output_type": "stream",
     "text": [
      "Model: \"sequential\"\n",
      "_________________________________________________________________\n",
      " Layer (type)                Output Shape              Param #   \n",
      "=================================================================\n",
      " embedding (Embedding)       (None, 50, 50)            806200    \n",
      "                                                                 \n",
      " lstm (LSTM)                 (None, 50, 100)           60400     \n",
      "                                                                 \n",
      " lstm_1 (LSTM)               (None, 100)               80400     \n",
      "                                                                 \n",
      " dense (Dense)               (None, 100)               10100     \n",
      "                                                                 \n",
      " dense_1 (Dense)             (None, 16124)             1628524   \n",
      "                                                                 \n",
      "=================================================================\n",
      "Total params: 2,585,624\n",
      "Trainable params: 2,585,624\n",
      "Non-trainable params: 0\n",
      "_________________________________________________________________\n"
     ]
    }
   ],
   "source": [
    "model.summary()"
   ]
  },
  {
   "cell_type": "code",
   "execution_count": 18,
   "metadata": {},
   "outputs": [],
   "source": [
    "model.compile(loss='categorical_crossentropy',optimizer='adam',metrics=['accuracy'])"
   ]
  },
  {
   "cell_type": "code",
   "execution_count": 19,
   "metadata": {},
   "outputs": [
    {
     "name": "stdout",
     "output_type": "stream",
     "text": [
      "Epoch 1/50\n"
     ]
    },
    {
     "name": "stderr",
     "output_type": "stream",
     "text": [
      "2024-06-05 17:05:06.269672: W tensorflow/tsl/platform/profile_utils/cpu_utils.cc:128] Failed to get CPU frequency: 0 Hz\n",
      "2024-06-05 17:05:06.420930: I tensorflow/core/common_runtime/executor.cc:1197] [/device:CPU:0] (DEBUG INFO) Executor start aborting (this does not indicate an error and you can ignore this message): INVALID_ARGUMENT: You must feed a value for placeholder tensor 'gradients/split_2_grad/concat/split_2/split_dim' with dtype int32\n",
      "\t [[{{node gradients/split_2_grad/concat/split_2/split_dim}}]]\n",
      "2024-06-05 17:05:06.421517: I tensorflow/core/common_runtime/executor.cc:1197] [/device:CPU:0] (DEBUG INFO) Executor start aborting (this does not indicate an error and you can ignore this message): INVALID_ARGUMENT: You must feed a value for placeholder tensor 'gradients/split_grad/concat/split/split_dim' with dtype int32\n",
      "\t [[{{node gradients/split_grad/concat/split/split_dim}}]]\n",
      "2024-06-05 17:05:06.422382: I tensorflow/core/common_runtime/executor.cc:1197] [/device:CPU:0] (DEBUG INFO) Executor start aborting (this does not indicate an error and you can ignore this message): INVALID_ARGUMENT: You must feed a value for placeholder tensor 'gradients/split_1_grad/concat/split_1/split_dim' with dtype int32\n",
      "\t [[{{node gradients/split_1_grad/concat/split_1/split_dim}}]]\n",
      "2024-06-05 17:05:06.516980: I tensorflow/core/common_runtime/executor.cc:1197] [/device:CPU:0] (DEBUG INFO) Executor start aborting (this does not indicate an error and you can ignore this message): INVALID_ARGUMENT: You must feed a value for placeholder tensor 'gradients/split_2_grad/concat/split_2/split_dim' with dtype int32\n",
      "\t [[{{node gradients/split_2_grad/concat/split_2/split_dim}}]]\n",
      "2024-06-05 17:05:06.517662: I tensorflow/core/common_runtime/executor.cc:1197] [/device:CPU:0] (DEBUG INFO) Executor start aborting (this does not indicate an error and you can ignore this message): INVALID_ARGUMENT: You must feed a value for placeholder tensor 'gradients/split_grad/concat/split/split_dim' with dtype int32\n",
      "\t [[{{node gradients/split_grad/concat/split/split_dim}}]]\n",
      "2024-06-05 17:05:06.518384: I tensorflow/core/common_runtime/executor.cc:1197] [/device:CPU:0] (DEBUG INFO) Executor start aborting (this does not indicate an error and you can ignore this message): INVALID_ARGUMENT: You must feed a value for placeholder tensor 'gradients/split_1_grad/concat/split_1/split_dim' with dtype int32\n",
      "\t [[{{node gradients/split_1_grad/concat/split_1/split_dim}}]]\n",
      "2024-06-05 17:05:06.900474: I tensorflow/core/common_runtime/executor.cc:1197] [/device:CPU:0] (DEBUG INFO) Executor start aborting (this does not indicate an error and you can ignore this message): INVALID_ARGUMENT: You must feed a value for placeholder tensor 'gradients/split_2_grad/concat/split_2/split_dim' with dtype int32\n",
      "\t [[{{node gradients/split_2_grad/concat/split_2/split_dim}}]]\n",
      "2024-06-05 17:05:06.901079: I tensorflow/core/common_runtime/executor.cc:1197] [/device:CPU:0] (DEBUG INFO) Executor start aborting (this does not indicate an error and you can ignore this message): INVALID_ARGUMENT: You must feed a value for placeholder tensor 'gradients/split_grad/concat/split/split_dim' with dtype int32\n",
      "\t [[{{node gradients/split_grad/concat/split/split_dim}}]]\n",
      "2024-06-05 17:05:06.901786: I tensorflow/core/common_runtime/executor.cc:1197] [/device:CPU:0] (DEBUG INFO) Executor start aborting (this does not indicate an error and you can ignore this message): INVALID_ARGUMENT: You must feed a value for placeholder tensor 'gradients/split_1_grad/concat/split_1/split_dim' with dtype int32\n",
      "\t [[{{node gradients/split_1_grad/concat/split_1/split_dim}}]]\n",
      "2024-06-05 17:05:06.988014: I tensorflow/core/common_runtime/executor.cc:1197] [/device:CPU:0] (DEBUG INFO) Executor start aborting (this does not indicate an error and you can ignore this message): INVALID_ARGUMENT: You must feed a value for placeholder tensor 'gradients/split_2_grad/concat/split_2/split_dim' with dtype int32\n",
      "\t [[{{node gradients/split_2_grad/concat/split_2/split_dim}}]]\n",
      "2024-06-05 17:05:06.988650: I tensorflow/core/common_runtime/executor.cc:1197] [/device:CPU:0] (DEBUG INFO) Executor start aborting (this does not indicate an error and you can ignore this message): INVALID_ARGUMENT: You must feed a value for placeholder tensor 'gradients/split_grad/concat/split/split_dim' with dtype int32\n",
      "\t [[{{node gradients/split_grad/concat/split/split_dim}}]]\n",
      "2024-06-05 17:05:06.989192: I tensorflow/core/common_runtime/executor.cc:1197] [/device:CPU:0] (DEBUG INFO) Executor start aborting (this does not indicate an error and you can ignore this message): INVALID_ARGUMENT: You must feed a value for placeholder tensor 'gradients/split_1_grad/concat/split_1/split_dim' with dtype int32\n",
      "\t [[{{node gradients/split_1_grad/concat/split_1/split_dim}}]]\n"
     ]
    },
    {
     "name": "stdout",
     "output_type": "stream",
     "text": [
      "1953/1953 [==============================] - 521s 266ms/step - loss: 6.5680 - accuracy: 0.0611\n",
      "Epoch 2/50\n",
      "1953/1953 [==============================] - 557s 285ms/step - loss: 5.9947 - accuracy: 0.1002\n",
      "Epoch 3/50\n",
      "1953/1953 [==============================] - 531s 272ms/step - loss: 5.7317 - accuracy: 0.1131\n",
      "Epoch 4/50\n",
      "1953/1953 [==============================] - 526s 269ms/step - loss: 5.5623 - accuracy: 0.1208\n",
      "Epoch 5/50\n",
      "1953/1953 [==============================] - 523s 268ms/step - loss: 5.4308 - accuracy: 0.1265\n",
      "Epoch 6/50\n",
      "1953/1953 [==============================] - 486s 249ms/step - loss: 5.3144 - accuracy: 0.1326\n",
      "Epoch 7/50\n",
      "1953/1953 [==============================] - 466s 239ms/step - loss: 5.2143 - accuracy: 0.1373\n",
      "Epoch 8/50\n",
      "1953/1953 [==============================] - 375s 192ms/step - loss: 5.1240 - accuracy: 0.1416\n",
      "Epoch 9/50\n",
      "1953/1953 [==============================] - 409s 210ms/step - loss: 5.0494 - accuracy: 0.1450\n",
      "Epoch 10/50\n",
      "1953/1953 [==============================] - 420s 215ms/step - loss: 4.9767 - accuracy: 0.1486\n",
      "Epoch 11/50\n",
      "1953/1953 [==============================] - 416s 213ms/step - loss: 4.9156 - accuracy: 0.1516\n",
      "Epoch 12/50\n",
      "1953/1953 [==============================] - 411s 210ms/step - loss: 4.8577 - accuracy: 0.1549\n",
      "Epoch 13/50\n",
      "1953/1953 [==============================] - 413s 212ms/step - loss: 4.8023 - accuracy: 0.1576\n",
      "Epoch 14/50\n",
      "1953/1953 [==============================] - 404s 207ms/step - loss: 4.7704 - accuracy: 0.1601\n",
      "Epoch 15/50\n",
      "1953/1953 [==============================] - 394s 202ms/step - loss: 4.7167 - accuracy: 0.1628\n",
      "Epoch 16/50\n",
      "1953/1953 [==============================] - 391s 200ms/step - loss: 4.6717 - accuracy: 0.1657\n",
      "Epoch 17/50\n",
      "1953/1953 [==============================] - 405s 207ms/step - loss: 4.6465 - accuracy: 0.1676\n",
      "Epoch 18/50\n",
      "1953/1953 [==============================] - 411s 210ms/step - loss: 4.6151 - accuracy: 0.1701\n",
      "Epoch 19/50\n",
      "1953/1953 [==============================] - 426s 218ms/step - loss: 4.5734 - accuracy: 0.1729\n",
      "Epoch 20/50\n",
      "1953/1953 [==============================] - 424s 217ms/step - loss: 4.5483 - accuracy: 0.1748\n",
      "Epoch 21/50\n",
      "1953/1953 [==============================] - 410s 210ms/step - loss: 4.5057 - accuracy: 0.1779\n",
      "Epoch 22/50\n",
      "1953/1953 [==============================] - 414s 212ms/step - loss: 4.4734 - accuracy: 0.1805\n",
      "Epoch 23/50\n",
      "1953/1953 [==============================] - 1397s 716ms/step - loss: 4.4405 - accuracy: 0.1831\n",
      "Epoch 24/50\n",
      "1953/1953 [==============================] - 386s 197ms/step - loss: 4.4388 - accuracy: 0.1843\n",
      "Epoch 25/50\n",
      "1953/1953 [==============================] - 628s 322ms/step - loss: 4.4234 - accuracy: 0.1861\n",
      "Epoch 26/50\n",
      "1953/1953 [==============================] - 573s 293ms/step - loss: 4.3860 - accuracy: 0.1891\n",
      "Epoch 27/50\n",
      "1953/1953 [==============================] - 390s 199ms/step - loss: 4.4159 - accuracy: 0.1882\n",
      "Epoch 28/50\n",
      "1953/1953 [==============================] - 403s 206ms/step - loss: 4.3819 - accuracy: 0.1902\n",
      "Epoch 29/50\n",
      "1953/1953 [==============================] - 422s 216ms/step - loss: 4.3416 - accuracy: 0.1937\n",
      "Epoch 30/50\n",
      "1953/1953 [==============================] - 420s 215ms/step - loss: 4.3164 - accuracy: 0.1960\n",
      "Epoch 31/50\n",
      "1953/1953 [==============================] - 397s 203ms/step - loss: 4.2890 - accuracy: 0.1980\n",
      "Epoch 32/50\n",
      "1953/1953 [==============================] - 403s 206ms/step - loss: 4.2538 - accuracy: 0.2014\n",
      "Epoch 33/50\n",
      "1953/1953 [==============================] - 419s 215ms/step - loss: 4.2295 - accuracy: 0.2037\n",
      "Epoch 34/50\n",
      "1953/1953 [==============================] - 423s 216ms/step - loss: 4.2000 - accuracy: 0.2066\n",
      "Epoch 35/50\n",
      "1953/1953 [==============================] - 396s 203ms/step - loss: 4.2135 - accuracy: 0.2067\n",
      "Epoch 36/50\n",
      "1953/1953 [==============================] - 398s 204ms/step - loss: 4.2114 - accuracy: 0.2087\n",
      "Epoch 37/50\n",
      "1953/1953 [==============================] - 400s 205ms/step - loss: 4.2102 - accuracy: 0.2082\n",
      "Epoch 38/50\n",
      "1953/1953 [==============================] - 415s 213ms/step - loss: 4.1741 - accuracy: 0.2114\n",
      "Epoch 39/50\n",
      "1953/1953 [==============================] - 394s 202ms/step - loss: 4.1718 - accuracy: 0.2121\n",
      "Epoch 40/50\n",
      "1953/1953 [==============================] - 402s 206ms/step - loss: 4.1613 - accuracy: 0.2135\n",
      "Epoch 41/50\n",
      "1953/1953 [==============================] - 403s 206ms/step - loss: 4.2309 - accuracy: 0.2095\n",
      "Epoch 42/50\n",
      "1953/1953 [==============================] - 400s 205ms/step - loss: 4.3115 - accuracy: 0.2030\n",
      "Epoch 43/50\n",
      "1953/1953 [==============================] - 411s 211ms/step - loss: 4.2634 - accuracy: 0.2052\n",
      "Epoch 44/50\n",
      "1953/1953 [==============================] - 419s 215ms/step - loss: 4.2218 - accuracy: 0.2071\n",
      "Epoch 45/50\n",
      "1953/1953 [==============================] - 415s 213ms/step - loss: 4.1834 - accuracy: 0.2108\n",
      "Epoch 46/50\n",
      "1953/1953 [==============================] - 413s 212ms/step - loss: 4.1485 - accuracy: 0.2135\n",
      "Epoch 47/50\n",
      "1953/1953 [==============================] - 434s 222ms/step - loss: 4.1166 - accuracy: 0.2169\n",
      "Epoch 48/50\n",
      "1953/1953 [==============================] - 412s 211ms/step - loss: 4.0861 - accuracy: 0.2200\n",
      "Epoch 49/50\n",
      "1953/1953 [==============================] - 401s 205ms/step - loss: 4.0567 - accuracy: 0.2226\n",
      "Epoch 50/50\n",
      "1953/1953 [==============================] - 395s 202ms/step - loss: 4.0308 - accuracy: 0.2256\n"
     ]
    },
    {
     "data": {
      "text/plain": [
       "<keras.callbacks.History at 0x1690616d0>"
      ]
     },
     "execution_count": 19,
     "metadata": {},
     "output_type": "execute_result"
    }
   ],
   "source": [
    "model.fit(X,y,batch_size=256,epochs=50)"
   ]
  },
  {
   "cell_type": "code",
   "execution_count": 20,
   "metadata": {},
   "outputs": [
    {
     "data": {
      "text/plain": [
       "'the words got lost on the way to his mouth and what he said instead was who are you the giant chuckled true i havent introduced meself rubeus hagrid keeper of keys and grounds at hogwarts he held out an enormous hand and shook harrys whole arm what about that tea'"
      ]
     },
     "execution_count": 20,
     "metadata": {},
     "output_type": "execute_result"
    }
   ],
   "source": [
    "seed_text=lines[12343]\n",
    "seed_text"
   ]
  },
  {
   "cell_type": "code",
   "execution_count": 35,
   "metadata": {},
   "outputs": [],
   "source": [
    "def generate_text_seq(model, tokenizer, text_seq_length, seed_text, n_words):\n",
    "  text = []\n",
    "\n",
    "  for _ in range(n_words):\n",
    "    encoded = tokenizer.texts_to_sequences([seed_text])[0]\n",
    "    encoded = pad_sequences([encoded], maxlen = text_seq_length, truncating='pre')\n",
    "\n",
    "    y_predict = np.argmax(model.predict(encoded),axis=1)\n",
    "\n",
    "    predicted_word = ''\n",
    "    for word, index in tokenizer.word_index.items():\n",
    "      if (index == y_predict).all():\n",
    "        predicted_word = word\n",
    "        break\n",
    "    seed_text = seed_text + ' ' + predicted_word\n",
    "    text.append(predicted_word)\n",
    "  return ' '.join(text)"
   ]
  },
  {
   "cell_type": "code",
   "execution_count": 38,
   "metadata": {},
   "outputs": [
    {
     "name": "stdout",
     "output_type": "stream",
     "text": [
      "1/1 [==============================] - 0s 17ms/step\n",
      "1/1 [==============================] - 0s 15ms/step\n",
      "1/1 [==============================] - 0s 14ms/step\n",
      "1/1 [==============================] - 0s 16ms/step\n",
      "1/1 [==============================] - 0s 13ms/step\n",
      "1/1 [==============================] - 0s 17ms/step\n",
      "1/1 [==============================] - 0s 14ms/step\n",
      "1/1 [==============================] - 0s 13ms/step\n",
      "1/1 [==============================] - 0s 15ms/step\n",
      "1/1 [==============================] - 0s 14ms/step\n",
      "1/1 [==============================] - 0s 14ms/step\n",
      "1/1 [==============================] - 0s 14ms/step\n",
      "1/1 [==============================] - 0s 13ms/step\n",
      "1/1 [==============================] - 0s 14ms/step\n",
      "1/1 [==============================] - 0s 14ms/step\n",
      "1/1 [==============================] - 0s 13ms/step\n",
      "1/1 [==============================] - 0s 13ms/step\n",
      "1/1 [==============================] - 0s 13ms/step\n",
      "1/1 [==============================] - 0s 12ms/step\n",
      "1/1 [==============================] - 0s 14ms/step\n"
     ]
    },
    {
     "data": {
      "text/plain": [
       "'said harry and ron and hermione were looking at him and he was looking at him his eyes were fixed'"
      ]
     },
     "execution_count": 38,
     "metadata": {},
     "output_type": "execute_result"
    }
   ],
   "source": [
    "generate_text_seq(model, tokenizer, seq_length, seed_text, 20)\n"
   ]
  },
  {
   "cell_type": "code",
   "execution_count": 42,
   "metadata": {},
   "outputs": [
    {
     "name": "stdout",
     "output_type": "stream",
     "text": [
      "in fact it was nearly midnight before the cat moved at all a man appeared on the corner the cat had been watching appeared so suddenly and silently youd have thought hed just popped out of the ground the cats tail twitched and its eyes narrowed nothing like this man had\n",
      "1/1 [==============================] - 0s 16ms/step\n",
      "1/1 [==============================] - 0s 15ms/step\n",
      "1/1 [==============================] - 0s 14ms/step\n",
      "1/1 [==============================] - 0s 13ms/step\n",
      "1/1 [==============================] - 0s 14ms/step\n",
      "1/1 [==============================] - 0s 14ms/step\n",
      "1/1 [==============================] - 0s 13ms/step\n",
      "1/1 [==============================] - 0s 14ms/step\n",
      "1/1 [==============================] - 0s 13ms/step\n",
      "1/1 [==============================] - 0s 14ms/step\n",
      "1/1 [==============================] - 0s 13ms/step\n",
      "1/1 [==============================] - 0s 12ms/step\n",
      "1/1 [==============================] - 0s 13ms/step\n",
      "1/1 [==============================] - 0s 13ms/step\n",
      "1/1 [==============================] - 0s 12ms/step\n",
      "1/1 [==============================] - 0s 13ms/step\n",
      "1/1 [==============================] - 0s 13ms/step\n",
      "1/1 [==============================] - 0s 13ms/step\n",
      "1/1 [==============================] - 0s 13ms/step\n",
      "1/1 [==============================] - 0s 13ms/step\n",
      "1/1 [==============================] - 0s 13ms/step\n",
      "1/1 [==============================] - 0s 12ms/step\n",
      "1/1 [==============================] - 0s 13ms/step\n",
      "1/1 [==============================] - 0s 15ms/step\n",
      "1/1 [==============================] - 0s 12ms/step\n",
      "1/1 [==============================] - 0s 14ms/step\n",
      "1/1 [==============================] - 0s 12ms/step\n",
      "1/1 [==============================] - 0s 12ms/step\n",
      "1/1 [==============================] - 0s 13ms/step\n",
      "1/1 [==============================] - 0s 12ms/step\n",
      "1/1 [==============================] - 0s 12ms/step\n",
      "1/1 [==============================] - 0s 12ms/step\n",
      "1/1 [==============================] - 0s 13ms/step\n",
      "1/1 [==============================] - 0s 13ms/step\n",
      "1/1 [==============================] - 0s 12ms/step\n",
      "1/1 [==============================] - 0s 13ms/step\n",
      "1/1 [==============================] - 0s 13ms/step\n",
      "1/1 [==============================] - 0s 13ms/step\n",
      "1/1 [==============================] - 0s 13ms/step\n",
      "1/1 [==============================] - 0s 13ms/step\n",
      "1/1 [==============================] - 0s 13ms/step\n",
      "1/1 [==============================] - 0s 13ms/step\n",
      "1/1 [==============================] - 0s 13ms/step\n",
      "1/1 [==============================] - 0s 13ms/step\n",
      "1/1 [==============================] - 0s 13ms/step\n",
      "1/1 [==============================] - 0s 13ms/step\n",
      "1/1 [==============================] - 0s 13ms/step\n",
      "1/1 [==============================] - 0s 13ms/step\n",
      "1/1 [==============================] - 0s 13ms/step\n",
      "1/1 [==============================] - 0s 13ms/step\n"
     ]
    },
    {
     "data": {
      "text/plain": [
       "'been able to get up to the castle he was going to be fed to the size of a large quantity of green light and befuddling perfume of a jewelencrusted and candles and dimitrov moran asleep he had been pushed into the air and a few of them hurtled toward'"
      ]
     },
     "execution_count": 42,
     "metadata": {},
     "output_type": "execute_result"
    }
   ],
   "source": [
    "seed_text=lines[2111]\n",
    "print(seed_text)\n",
    "generate_text_seq(model, tokenizer, seq_length, seed_text, 50)"
   ]
  }
 ],
 "metadata": {
  "kernelspec": {
   "display_name": "base",
   "language": "python",
   "name": "python3"
  },
  "language_info": {
   "codemirror_mode": {
    "name": "ipython",
    "version": 3
   },
   "file_extension": ".py",
   "mimetype": "text/x-python",
   "name": "python",
   "nbconvert_exporter": "python",
   "pygments_lexer": "ipython3",
   "version": "3.11.5"
  },
  "orig_nbformat": 4,
  "vscode": {
   "interpreter": {
    "hash": "2e430f0ad9665160f67d6dc54854f24c99914292813d9864631e0bb649b1aa1c"
   }
  }
 },
 "nbformat": 4,
 "nbformat_minor": 2
}
