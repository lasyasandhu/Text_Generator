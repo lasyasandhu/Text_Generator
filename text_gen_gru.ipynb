{
 "cells": [
  {
   "cell_type": "code",
   "execution_count": 2,
   "metadata": {},
   "outputs": [],
   "source": [
    "import tensorflow as tf\n",
    "import numpy as np\n",
    "import os\n",
    "import time"
   ]
  },
  {
   "cell_type": "code",
   "execution_count": 3,
   "metadata": {},
   "outputs": [
    {
     "name": "stdout",
     "output_type": "stream",
     "text": [
      "Length of text: 5991293 characters\n"
     ]
    }
   ],
   "source": [
    "dataset= open('./data/Harry_Potter_all_books_preprocessed.txt', 'r',encoding='utf-8').read()\n",
    "print ('Length of text: {} characters'.format(len(dataset)))"
   ]
  },
  {
   "cell_type": "code",
   "execution_count": 4,
   "metadata": {},
   "outputs": [
    {
     "name": "stdout",
     "output_type": "stream",
     "text": [
      "THE BOY WHO LIVED Mr and Mrs Dursley of number four Privet Drive were proud to say that they were perfectly normal thank you very much .They were the last people youd expect to be involved in anything strange or mysterious because they just didnt hold with such nonsense .Mr Dursley was the director \n"
     ]
    }
   ],
   "source": [
    "print(dataset[:300])"
   ]
  },
  {
   "cell_type": "code",
   "execution_count": 5,
   "metadata": {},
   "outputs": [
    {
     "name": "stdout",
     "output_type": "stream",
     "text": [
      "71 unique characters\n"
     ]
    }
   ],
   "source": [
    "vocab = sorted(set(dataset))\n",
    "print ('{} unique characters'.format(len(vocab)))"
   ]
  },
  {
   "cell_type": "code",
   "execution_count": 6,
   "metadata": {},
   "outputs": [
    {
     "name": "stdout",
     "output_type": "stream",
     "text": [
      "[33 21 18 ...  0  2  0]\n"
     ]
    }
   ],
   "source": [
    "char2index = {u:i for i, u in enumerate(vocab)}\n",
    "index2char = np.array(vocab)\n",
    "\n",
    "text_as_int = np.array([char2index[c] for c in dataset])\n",
    "\n",
    "print(text_as_int)"
   ]
  },
  {
   "cell_type": "code",
   "execution_count": 7,
   "metadata": {},
   "outputs": [
    {
     "name": "stdout",
     "output_type": "stream",
     "text": [
      "'THE BOY WHO L' -- characters mapped to int -- > [33 21 18  0 15 28 38  0 36 21 28  0 25]\n"
     ]
    }
   ],
   "source": [
    "print ('{} -- characters mapped to int -- > {}'.format(repr(dataset[:13]), text_as_int[:13]))"
   ]
  },
  {
   "cell_type": "code",
   "execution_count": 8,
   "metadata": {},
   "outputs": [
    {
     "name": "stdout",
     "output_type": "stream",
     "text": [
      "T\n",
      "H\n",
      "E\n",
      " \n",
      "B\n"
     ]
    },
    {
     "name": "stderr",
     "output_type": "stream",
     "text": [
      "2024-06-07 12:30:23.499571: I tensorflow/core/common_runtime/executor.cc:1197] [/device:CPU:0] (DEBUG INFO) Executor start aborting (this does not indicate an error and you can ignore this message): INVALID_ARGUMENT: You must feed a value for placeholder tensor 'Placeholder/_0' with dtype int64 and shape [5991293]\n",
      "\t [[{{node Placeholder/_0}}]]\n"
     ]
    }
   ],
   "source": [
    "seq_length = 100\n",
    "examples_per_epoch = len(dataset)//(seq_length+1)\n",
    "\n",
    "# Create training examples / targets\n",
    "char_dataset = tf.data.Dataset.from_tensor_slices(text_as_int)\n",
    "\n",
    "for i in char_dataset.take(5):\n",
    "  print(index2char[i.numpy()])"
   ]
  },
  {
   "cell_type": "code",
   "execution_count": 9,
   "metadata": {},
   "outputs": [
    {
     "name": "stdout",
     "output_type": "stream",
     "text": [
      "'THE BOY WHO LIVED Mr and Mrs Dursley of number four Privet Drive were proud to say that they were per'\n",
      "'fectly normal thank you very much .They were the last people youd expect to be involved in anything s'\n",
      "'trange or mysterious because they just didnt hold with such nonsense .Mr Dursley was the director of '\n",
      "'a firm called Grunnings which made drills .He was a big beefy man with hardly any neck although he di'\n",
      "'d have a very large mustache .Mrs Dursley was thin and blonde and had nearly twice the usual amount o'\n"
     ]
    },
    {
     "name": "stderr",
     "output_type": "stream",
     "text": [
      "2024-06-07 12:30:23.559322: I tensorflow/core/common_runtime/executor.cc:1197] [/device:CPU:0] (DEBUG INFO) Executor start aborting (this does not indicate an error and you can ignore this message): INVALID_ARGUMENT: You must feed a value for placeholder tensor 'Placeholder/_0' with dtype int64 and shape [5991293]\n",
      "\t [[{{node Placeholder/_0}}]]\n"
     ]
    }
   ],
   "source": [
    "sequences = char_dataset.batch(seq_length+1, drop_remainder=True)\n",
    "\n",
    "for item in sequences.take(5):\n",
    "  print(repr(''.join(index2char[item.numpy()])))"
   ]
  },
  {
   "cell_type": "code",
   "execution_count": 10,
   "metadata": {},
   "outputs": [],
   "source": [
    "def split_input_target(chunk):\n",
    "    input_text = chunk[:-1]\n",
    "    target_text = chunk[1:]\n",
    "    return input_text, target_text\n",
    "\n",
    "dataset = sequences.map(split_input_target)"
   ]
  },
  {
   "cell_type": "code",
   "execution_count": 11,
   "metadata": {},
   "outputs": [
    {
     "data": {
      "text/plain": [
       "<_BatchDataset element_spec=(TensorSpec(shape=(64, 100), dtype=tf.int64, name=None), TensorSpec(shape=(64, 100), dtype=tf.int64, name=None))>"
      ]
     },
     "execution_count": 11,
     "metadata": {},
     "output_type": "execute_result"
    }
   ],
   "source": [
    "BATCH_SIZE = 64\n",
    "BUFFER_SIZE = 10000\n",
    "\n",
    "dataset = dataset.shuffle(BUFFER_SIZE).batch(BATCH_SIZE, drop_remainder=True)\n",
    "\n",
    "dataset"
   ]
  },
  {
   "cell_type": "code",
   "execution_count": 12,
   "metadata": {},
   "outputs": [
    {
     "name": "stdout",
     "output_type": "stream",
     "text": [
      "71\n"
     ]
    }
   ],
   "source": [
    "# Length of the vocabulary in chars\n",
    "vocab_size = len(vocab)\n",
    "\n",
    "# The embedding dimension\n",
    "embedding_dim = 300 #256\n",
    "\n",
    "# Number of RNN units\n",
    "rnn_units1 = 512 #1024\n",
    "rnn_units2 = 256\n",
    "rnn_units=[rnn_units1, rnn_units2]\n",
    "print(vocab_size)"
   ]
  },
  {
   "cell_type": "code",
   "execution_count": 13,
   "metadata": {},
   "outputs": [],
   "source": [
    "def build_model(vocab_size, embedding_dim, rnn_units, batch_size):\n",
    "  model = tf.keras.Sequential([\n",
    "    tf.keras.layers.Embedding(vocab_size, embedding_dim,\n",
    "                              batch_input_shape=[batch_size, None]),\n",
    "    tf.keras.layers.GRU(rnn_units1,\n",
    "                        return_sequences=True,\n",
    "                        stateful=True,\n",
    "                        recurrent_initializer='glorot_uniform'),\n",
    "    tf.keras.layers.GRU(rnn_units2,\n",
    "                        return_sequences=True,\n",
    "                        stateful=True,\n",
    "                        recurrent_initializer='glorot_uniform'),\n",
    "    tf.keras.layers.Dense(vocab_size)\n",
    "  ])\n",
    "  return model"
   ]
  },
  {
   "cell_type": "code",
   "execution_count": 14,
   "metadata": {},
   "outputs": [
    {
     "name": "stderr",
     "output_type": "stream",
     "text": [
      "2024-06-07 12:30:23.779527: I tensorflow/core/common_runtime/executor.cc:1197] [/device:CPU:0] (DEBUG INFO) Executor start aborting (this does not indicate an error and you can ignore this message): INVALID_ARGUMENT: You must feed a value for placeholder tensor 'gradients/split_2_grad/concat/split_2/split_dim' with dtype int32\n",
      "\t [[{{node gradients/split_2_grad/concat/split_2/split_dim}}]]\n",
      "2024-06-07 12:30:23.780279: I tensorflow/core/common_runtime/executor.cc:1197] [/device:CPU:0] (DEBUG INFO) Executor start aborting (this does not indicate an error and you can ignore this message): INVALID_ARGUMENT: You must feed a value for placeholder tensor 'gradients/split_grad/concat/split/split_dim' with dtype int32\n",
      "\t [[{{node gradients/split_grad/concat/split/split_dim}}]]\n",
      "2024-06-07 12:30:23.781266: I tensorflow/core/common_runtime/executor.cc:1197] [/device:CPU:0] (DEBUG INFO) Executor start aborting (this does not indicate an error and you can ignore this message): INVALID_ARGUMENT: You must feed a value for placeholder tensor 'gradients/split_1_grad/concat/split_1/split_dim' with dtype int32\n",
      "\t [[{{node gradients/split_1_grad/concat/split_1/split_dim}}]]\n",
      "2024-06-07 12:30:23.942647: I tensorflow/core/common_runtime/executor.cc:1197] [/device:CPU:0] (DEBUG INFO) Executor start aborting (this does not indicate an error and you can ignore this message): INVALID_ARGUMENT: You must feed a value for placeholder tensor 'gradients/split_2_grad/concat/split_2/split_dim' with dtype int32\n",
      "\t [[{{node gradients/split_2_grad/concat/split_2/split_dim}}]]\n",
      "2024-06-07 12:30:23.943077: I tensorflow/core/common_runtime/executor.cc:1197] [/device:CPU:0] (DEBUG INFO) Executor start aborting (this does not indicate an error and you can ignore this message): INVALID_ARGUMENT: You must feed a value for placeholder tensor 'gradients/split_grad/concat/split/split_dim' with dtype int32\n",
      "\t [[{{node gradients/split_grad/concat/split/split_dim}}]]\n",
      "2024-06-07 12:30:23.943499: I tensorflow/core/common_runtime/executor.cc:1197] [/device:CPU:0] (DEBUG INFO) Executor start aborting (this does not indicate an error and you can ignore this message): INVALID_ARGUMENT: You must feed a value for placeholder tensor 'gradients/split_1_grad/concat/split_1/split_dim' with dtype int32\n",
      "\t [[{{node gradients/split_1_grad/concat/split_1/split_dim}}]]\n"
     ]
    }
   ],
   "source": [
    "model = build_model(\n",
    "  vocab_size = vocab_size,\n",
    "  embedding_dim=embedding_dim,\n",
    "  rnn_units=rnn_units,\n",
    "  batch_size=BATCH_SIZE)"
   ]
  },
  {
   "cell_type": "code",
   "execution_count": 15,
   "metadata": {},
   "outputs": [
    {
     "name": "stdout",
     "output_type": "stream",
     "text": [
      "Model: \"sequential\"\n",
      "_________________________________________________________________\n",
      " Layer (type)                Output Shape              Param #   \n",
      "=================================================================\n",
      " embedding (Embedding)       (64, None, 300)           21300     \n",
      "                                                                 \n",
      " gru (GRU)                   (64, None, 512)           1250304   \n",
      "                                                                 \n",
      " gru_1 (GRU)                 (64, None, 256)           591360    \n",
      "                                                                 \n",
      " dense (Dense)               (64, None, 71)            18247     \n",
      "                                                                 \n",
      "=================================================================\n",
      "Total params: 1,881,211\n",
      "Trainable params: 1,881,211\n",
      "Non-trainable params: 0\n",
      "_________________________________________________________________\n"
     ]
    }
   ],
   "source": [
    "model.summary()"
   ]
  },
  {
   "cell_type": "code",
   "execution_count": 16,
   "metadata": {},
   "outputs": [],
   "source": [
    "def loss(labels, logits):\n",
    "  return tf.keras.losses.sparse_categorical_crossentropy(labels, logits, from_logits=True)"
   ]
  },
  {
   "cell_type": "code",
   "execution_count": 17,
   "metadata": {},
   "outputs": [],
   "source": [
    "model.compile(optimizer='adam', loss=loss, metrics=['accuracy'])"
   ]
  },
  {
   "cell_type": "code",
   "execution_count": 18,
   "metadata": {},
   "outputs": [],
   "source": [
    "# Directory where the checkpoints will be saved\n",
    "checkpoint_dir = './training_checkpoints'\n",
    "# Name of the checkpoint files\n",
    "checkpoint_prefix = os.path.join(checkpoint_dir, \"ckpt_{epoch}\")\n",
    "\n",
    "checkpoint_callback=tf.keras.callbacks.ModelCheckpoint(\n",
    "    filepath=checkpoint_prefix,\n",
    "    save_weights_only=True)"
   ]
  },
  {
   "cell_type": "code",
   "execution_count": 19,
   "metadata": {},
   "outputs": [],
   "source": [
    "EPOCHS=50"
   ]
  },
  {
   "cell_type": "code",
   "execution_count": 20,
   "metadata": {},
   "outputs": [
    {
     "name": "stdout",
     "output_type": "stream",
     "text": [
      "Epoch 1/50\n"
     ]
    },
    {
     "name": "stderr",
     "output_type": "stream",
     "text": [
      "2024-06-07 12:30:24.154132: I tensorflow/core/common_runtime/executor.cc:1197] [/device:CPU:0] (DEBUG INFO) Executor start aborting (this does not indicate an error and you can ignore this message): INVALID_ARGUMENT: You must feed a value for placeholder tensor 'Placeholder/_0' with dtype int64 and shape [5991293]\n",
      "\t [[{{node Placeholder/_0}}]]\n",
      "2024-06-07 12:30:24.154294: I tensorflow/core/common_runtime/executor.cc:1197] [/device:CPU:0] (DEBUG INFO) Executor start aborting (this does not indicate an error and you can ignore this message): INVALID_ARGUMENT: You must feed a value for placeholder tensor 'Placeholder/_0' with dtype int64 and shape [5991293]\n",
      "\t [[{{node Placeholder/_0}}]]\n",
      "2024-06-07 12:30:24.243211: I tensorflow/core/common_runtime/executor.cc:1197] [/device:CPU:0] (DEBUG INFO) Executor start aborting (this does not indicate an error and you can ignore this message): INVALID_ARGUMENT: You must feed a value for placeholder tensor 'gradients/split_2_grad/concat/split_2/split_dim' with dtype int32\n",
      "\t [[{{node gradients/split_2_grad/concat/split_2/split_dim}}]]\n",
      "2024-06-07 12:30:24.243768: I tensorflow/core/common_runtime/executor.cc:1197] [/device:CPU:0] (DEBUG INFO) Executor start aborting (this does not indicate an error and you can ignore this message): INVALID_ARGUMENT: You must feed a value for placeholder tensor 'gradients/split_grad/concat/split/split_dim' with dtype int32\n",
      "\t [[{{node gradients/split_grad/concat/split/split_dim}}]]\n",
      "2024-06-07 12:30:24.244309: I tensorflow/core/common_runtime/executor.cc:1197] [/device:CPU:0] (DEBUG INFO) Executor start aborting (this does not indicate an error and you can ignore this message): INVALID_ARGUMENT: You must feed a value for placeholder tensor 'gradients/split_1_grad/concat/split_1/split_dim' with dtype int32\n",
      "\t [[{{node gradients/split_1_grad/concat/split_1/split_dim}}]]\n",
      "2024-06-07 12:30:24.313537: I tensorflow/core/common_runtime/executor.cc:1197] [/device:CPU:0] (DEBUG INFO) Executor start aborting (this does not indicate an error and you can ignore this message): INVALID_ARGUMENT: You must feed a value for placeholder tensor 'gradients/split_2_grad/concat/split_2/split_dim' with dtype int32\n",
      "\t [[{{node gradients/split_2_grad/concat/split_2/split_dim}}]]\n",
      "2024-06-07 12:30:24.314076: I tensorflow/core/common_runtime/executor.cc:1197] [/device:CPU:0] (DEBUG INFO) Executor start aborting (this does not indicate an error and you can ignore this message): INVALID_ARGUMENT: You must feed a value for placeholder tensor 'gradients/split_grad/concat/split/split_dim' with dtype int32\n",
      "\t [[{{node gradients/split_grad/concat/split/split_dim}}]]\n",
      "2024-06-07 12:30:24.314711: I tensorflow/core/common_runtime/executor.cc:1197] [/device:CPU:0] (DEBUG INFO) Executor start aborting (this does not indicate an error and you can ignore this message): INVALID_ARGUMENT: You must feed a value for placeholder tensor 'gradients/split_1_grad/concat/split_1/split_dim' with dtype int32\n",
      "\t [[{{node gradients/split_1_grad/concat/split_1/split_dim}}]]\n",
      "2024-06-07 12:30:24.576023: I tensorflow/core/common_runtime/executor.cc:1197] [/device:CPU:0] (DEBUG INFO) Executor start aborting (this does not indicate an error and you can ignore this message): INVALID_ARGUMENT: You must feed a value for placeholder tensor 'gradients/split_2_grad/concat/split_2/split_dim' with dtype int32\n",
      "\t [[{{node gradients/split_2_grad/concat/split_2/split_dim}}]]\n",
      "2024-06-07 12:30:24.576525: I tensorflow/core/common_runtime/executor.cc:1197] [/device:CPU:0] (DEBUG INFO) Executor start aborting (this does not indicate an error and you can ignore this message): INVALID_ARGUMENT: You must feed a value for placeholder tensor 'gradients/split_grad/concat/split/split_dim' with dtype int32\n",
      "\t [[{{node gradients/split_grad/concat/split/split_dim}}]]\n",
      "2024-06-07 12:30:24.577397: I tensorflow/core/common_runtime/executor.cc:1197] [/device:CPU:0] (DEBUG INFO) Executor start aborting (this does not indicate an error and you can ignore this message): INVALID_ARGUMENT: You must feed a value for placeholder tensor 'gradients/split_1_grad/concat/split_1/split_dim' with dtype int32\n",
      "\t [[{{node gradients/split_1_grad/concat/split_1/split_dim}}]]\n",
      "2024-06-07 12:30:24.645062: I tensorflow/core/common_runtime/executor.cc:1197] [/device:CPU:0] (DEBUG INFO) Executor start aborting (this does not indicate an error and you can ignore this message): INVALID_ARGUMENT: You must feed a value for placeholder tensor 'gradients/split_2_grad/concat/split_2/split_dim' with dtype int32\n",
      "\t [[{{node gradients/split_2_grad/concat/split_2/split_dim}}]]\n",
      "2024-06-07 12:30:24.645564: I tensorflow/core/common_runtime/executor.cc:1197] [/device:CPU:0] (DEBUG INFO) Executor start aborting (this does not indicate an error and you can ignore this message): INVALID_ARGUMENT: You must feed a value for placeholder tensor 'gradients/split_grad/concat/split/split_dim' with dtype int32\n",
      "\t [[{{node gradients/split_grad/concat/split/split_dim}}]]\n",
      "2024-06-07 12:30:24.646084: I tensorflow/core/common_runtime/executor.cc:1197] [/device:CPU:0] (DEBUG INFO) Executor start aborting (this does not indicate an error and you can ignore this message): INVALID_ARGUMENT: You must feed a value for placeholder tensor 'gradients/split_1_grad/concat/split_1/split_dim' with dtype int32\n",
      "\t [[{{node gradients/split_1_grad/concat/split_1/split_dim}}]]\n",
      "2024-06-07 12:30:24.828249: W tensorflow/tsl/platform/profile_utils/cpu_utils.cc:128] Failed to get CPU frequency: 0 Hz\n"
     ]
    },
    {
     "name": "stdout",
     "output_type": "stream",
     "text": [
      "926/926 [==============================] - 488s 525ms/step - loss: 1.6681 - accuracy: 0.5156\n",
      "Epoch 2/50\n",
      "926/926 [==============================] - 508s 547ms/step - loss: 1.2477 - accuracy: 0.6262\n",
      "Epoch 3/50\n",
      "926/926 [==============================] - 518s 558ms/step - loss: 1.1836 - accuracy: 0.6437\n",
      "Epoch 4/50\n",
      "926/926 [==============================] - 506s 545ms/step - loss: 1.1512 - accuracy: 0.6529\n",
      "Epoch 5/50\n",
      "926/926 [==============================] - 505s 545ms/step - loss: 1.1302 - accuracy: 0.6590\n",
      "Epoch 6/50\n",
      "926/926 [==============================] - 529s 570ms/step - loss: 1.1152 - accuracy: 0.6630\n",
      "Epoch 7/50\n",
      "926/926 [==============================] - 562s 606ms/step - loss: 1.1034 - accuracy: 0.6665\n",
      "Epoch 8/50\n",
      "926/926 [==============================] - 793s 856ms/step - loss: 1.0937 - accuracy: 0.6694\n",
      "Epoch 9/50\n",
      "926/926 [==============================] - 569s 613ms/step - loss: 1.0859 - accuracy: 0.6717\n",
      "Epoch 10/50\n",
      "926/926 [==============================] - 693s 748ms/step - loss: 1.0795 - accuracy: 0.6736\n",
      "Epoch 11/50\n",
      "926/926 [==============================] - 576s 621ms/step - loss: 1.0738 - accuracy: 0.6751\n",
      "Epoch 12/50\n",
      "926/926 [==============================] - 637s 687ms/step - loss: 1.0692 - accuracy: 0.6766\n",
      "Epoch 13/50\n",
      "926/926 [==============================] - 581s 626ms/step - loss: 1.0652 - accuracy: 0.6777\n",
      "Epoch 14/50\n",
      "926/926 [==============================] - 610s 658ms/step - loss: 1.0614 - accuracy: 0.6789\n",
      "Epoch 15/50\n",
      "926/926 [==============================] - 1281s 1s/step - loss: 1.0583 - accuracy: 0.6799\n",
      "Epoch 16/50\n",
      "926/926 [==============================] - 1937s 2s/step - loss: 1.0555 - accuracy: 0.6807\n",
      "Epoch 17/50\n",
      "926/926 [==============================] - 481s 518ms/step - loss: 1.0530 - accuracy: 0.6812\n",
      "Epoch 18/50\n",
      "926/926 [==============================] - 497s 535ms/step - loss: 1.0511 - accuracy: 0.6818\n",
      "Epoch 19/50\n",
      "926/926 [==============================] - 535s 577ms/step - loss: 1.0495 - accuracy: 0.6824\n",
      "Epoch 20/50\n",
      "926/926 [==============================] - 548s 591ms/step - loss: 1.0472 - accuracy: 0.6829\n",
      "Epoch 21/50\n",
      "926/926 [==============================] - 544s 586ms/step - loss: 1.0457 - accuracy: 0.6834\n",
      "Epoch 22/50\n",
      "926/926 [==============================] - 541s 583ms/step - loss: 1.0441 - accuracy: 0.6838\n",
      "Epoch 23/50\n",
      "926/926 [==============================] - 1418s 2s/step - loss: 1.0434 - accuracy: 0.6841\n",
      "Epoch 24/50\n",
      "926/926 [==============================] - 499s 538ms/step - loss: 1.0421 - accuracy: 0.6843\n",
      "Epoch 25/50\n",
      "926/926 [==============================] - 497s 536ms/step - loss: 1.0412 - accuracy: 0.6847\n",
      "Epoch 26/50\n",
      "926/926 [==============================] - 498s 537ms/step - loss: 1.0403 - accuracy: 0.6850\n",
      "Epoch 27/50\n",
      "926/926 [==============================] - 506s 546ms/step - loss: 1.0396 - accuracy: 0.6853\n",
      "Epoch 28/50\n",
      "926/926 [==============================] - 499s 538ms/step - loss: 1.0391 - accuracy: 0.6854\n",
      "Epoch 29/50\n",
      "926/926 [==============================] - 496s 534ms/step - loss: 1.0383 - accuracy: 0.6855\n",
      "Epoch 30/50\n",
      "926/926 [==============================] - 521s 562ms/step - loss: 1.0378 - accuracy: 0.6857\n",
      "Epoch 31/50\n",
      "926/926 [==============================] - 534s 576ms/step - loss: 1.0375 - accuracy: 0.6859\n",
      "Epoch 32/50\n",
      "926/926 [==============================] - 557s 601ms/step - loss: 1.0369 - accuracy: 0.6859\n",
      "Epoch 33/50\n",
      "926/926 [==============================] - 558s 602ms/step - loss: 1.0364 - accuracy: 0.6860\n",
      "Epoch 34/50\n",
      "926/926 [==============================] - 566s 610ms/step - loss: 1.0361 - accuracy: 0.6860\n",
      "Epoch 35/50\n",
      "926/926 [==============================] - 575s 620ms/step - loss: 1.0357 - accuracy: 0.6862\n",
      "Epoch 36/50\n",
      "926/926 [==============================] - 563s 607ms/step - loss: 1.0357 - accuracy: 0.6862\n",
      "Epoch 37/50\n",
      "926/926 [==============================] - 538s 580ms/step - loss: 1.0355 - accuracy: 0.6863\n",
      "Epoch 38/50\n",
      "926/926 [==============================] - 679s 733ms/step - loss: 1.0349 - accuracy: 0.6865\n",
      "Epoch 39/50\n",
      "926/926 [==============================] - 543s 585ms/step - loss: 1.0354 - accuracy: 0.6862\n",
      "Epoch 40/50\n",
      "926/926 [==============================] - 559s 603ms/step - loss: 1.0351 - accuracy: 0.6863\n",
      "Epoch 41/50\n",
      "926/926 [==============================] - 808s 872ms/step - loss: 1.0350 - accuracy: 0.6864\n",
      "Epoch 42/50\n",
      "926/926 [==============================] - 495s 533ms/step - loss: 1.0344 - accuracy: 0.6866\n",
      "Epoch 43/50\n",
      "926/926 [==============================] - 513s 553ms/step - loss: 1.0351 - accuracy: 0.6862\n",
      "Epoch 44/50\n",
      "926/926 [==============================] - 514s 554ms/step - loss: 1.0348 - accuracy: 0.6863\n",
      "Epoch 45/50\n",
      "926/926 [==============================] - 526s 567ms/step - loss: 1.0349 - accuracy: 0.6863\n",
      "Epoch 46/50\n",
      "926/926 [==============================] - 575s 620ms/step - loss: 1.0353 - accuracy: 0.6862\n",
      "Epoch 47/50\n",
      "926/926 [==============================] - 565s 609ms/step - loss: 1.0354 - accuracy: 0.6862\n",
      "Epoch 48/50\n",
      "926/926 [==============================] - 529s 570ms/step - loss: 1.0349 - accuracy: 0.6861\n",
      "Epoch 49/50\n",
      "926/926 [==============================] - 550s 594ms/step - loss: 1.0354 - accuracy: 0.6860\n",
      "Epoch 50/50\n",
      "926/926 [==============================] - 545s 587ms/step - loss: 1.0353 - accuracy: 0.6861\n"
     ]
    }
   ],
   "source": [
    "history = model.fit(dataset, epochs=EPOCHS, callbacks=[checkpoint_callback])"
   ]
  },
  {
   "cell_type": "code",
   "execution_count": 21,
   "metadata": {},
   "outputs": [],
   "source": [
    "latest_check= tf.train.latest_checkpoint(checkpoint_dir)"
   ]
  },
  {
   "cell_type": "code",
   "execution_count": 22,
   "metadata": {},
   "outputs": [
    {
     "name": "stderr",
     "output_type": "stream",
     "text": [
      "2024-06-07 21:01:28.239288: I tensorflow/core/common_runtime/executor.cc:1197] [/device:CPU:0] (DEBUG INFO) Executor start aborting (this does not indicate an error and you can ignore this message): INVALID_ARGUMENT: You must feed a value for placeholder tensor 'gradients/split_2_grad/concat/split_2/split_dim' with dtype int32\n",
      "\t [[{{node gradients/split_2_grad/concat/split_2/split_dim}}]]\n",
      "2024-06-07 21:01:28.240169: I tensorflow/core/common_runtime/executor.cc:1197] [/device:CPU:0] (DEBUG INFO) Executor start aborting (this does not indicate an error and you can ignore this message): INVALID_ARGUMENT: You must feed a value for placeholder tensor 'gradients/split_grad/concat/split/split_dim' with dtype int32\n",
      "\t [[{{node gradients/split_grad/concat/split/split_dim}}]]\n",
      "2024-06-07 21:01:28.240656: I tensorflow/core/common_runtime/executor.cc:1197] [/device:CPU:0] (DEBUG INFO) Executor start aborting (this does not indicate an error and you can ignore this message): INVALID_ARGUMENT: You must feed a value for placeholder tensor 'gradients/split_1_grad/concat/split_1/split_dim' with dtype int32\n",
      "\t [[{{node gradients/split_1_grad/concat/split_1/split_dim}}]]\n",
      "2024-06-07 21:01:28.311586: I tensorflow/core/common_runtime/executor.cc:1197] [/device:CPU:0] (DEBUG INFO) Executor start aborting (this does not indicate an error and you can ignore this message): INVALID_ARGUMENT: You must feed a value for placeholder tensor 'gradients/split_2_grad/concat/split_2/split_dim' with dtype int32\n",
      "\t [[{{node gradients/split_2_grad/concat/split_2/split_dim}}]]\n",
      "2024-06-07 21:01:28.312090: I tensorflow/core/common_runtime/executor.cc:1197] [/device:CPU:0] (DEBUG INFO) Executor start aborting (this does not indicate an error and you can ignore this message): INVALID_ARGUMENT: You must feed a value for placeholder tensor 'gradients/split_grad/concat/split/split_dim' with dtype int32\n",
      "\t [[{{node gradients/split_grad/concat/split/split_dim}}]]\n",
      "2024-06-07 21:01:28.312661: I tensorflow/core/common_runtime/executor.cc:1197] [/device:CPU:0] (DEBUG INFO) Executor start aborting (this does not indicate an error and you can ignore this message): INVALID_ARGUMENT: You must feed a value for placeholder tensor 'gradients/split_1_grad/concat/split_1/split_dim' with dtype int32\n",
      "\t [[{{node gradients/split_1_grad/concat/split_1/split_dim}}]]\n"
     ]
    }
   ],
   "source": [
    "model = build_model(vocab_size, embedding_dim, rnn_units, batch_size=1)\n",
    "\n",
    "model.load_weights(latest_check)\n",
    "\n",
    "model.build(tf.TensorShape([1, None]))"
   ]
  },
  {
   "cell_type": "code",
   "execution_count": 23,
   "metadata": {},
   "outputs": [
    {
     "name": "stdout",
     "output_type": "stream",
     "text": [
      "Model: \"sequential_1\"\n",
      "_________________________________________________________________\n",
      " Layer (type)                Output Shape              Param #   \n",
      "=================================================================\n",
      " embedding_1 (Embedding)     (1, None, 300)            21300     \n",
      "                                                                 \n",
      " gru_2 (GRU)                 (1, None, 512)            1250304   \n",
      "                                                                 \n",
      " gru_3 (GRU)                 (1, None, 256)            591360    \n",
      "                                                                 \n",
      " dense_1 (Dense)             (1, None, 71)             18247     \n",
      "                                                                 \n",
      "=================================================================\n",
      "Total params: 1,881,211\n",
      "Trainable params: 1,881,211\n",
      "Non-trainable params: 0\n",
      "_________________________________________________________________\n"
     ]
    }
   ],
   "source": [
    "model.summary()"
   ]
  },
  {
   "cell_type": "code",
   "execution_count": 24,
   "metadata": {},
   "outputs": [],
   "source": [
    "def generate_text(model, start_string):\n",
    "\n",
    "  # Number of characters to generate\n",
    "  num_generate = 1000\n",
    "\n",
    "  # Converting our start string to numbers (vectorizing)\n",
    "  input_eval = [char2index[s] for s in start_string]\n",
    "  input_eval = tf.expand_dims(input_eval, 0)\n",
    "\n",
    "  # Empty string to store our results\n",
    "  text_generated = []\n",
    "\n",
    "  # Low results in more predictable text.\n",
    "  # Higher results in more surprising text.\n",
    "  # Experiment to find the best setting.\n",
    "  scaling = 0.5 #1\n",
    "\n",
    "  # batch size == 1\n",
    "  \n",
    "  model.reset_states()\n",
    "  for i in range(num_generate):\n",
    "      predictions = model(input_eval)\n",
    "      # remove the batch dimension\n",
    "      predictions = tf.squeeze(predictions, 0)\n",
    "\n",
    "      # using a categorical distribution to predict the character returned by the model\n",
    "      predictions = predictions / scaling\n",
    "      predicted_id = tf.random.categorical(predictions, num_samples=1)[-1,0].numpy()\n",
    "\n",
    "      # We pass the predicted character as the next input to the model\n",
    "      # along with the previous hidden state\n",
    "      input_eval = tf.expand_dims([predicted_id], 0)\n",
    "\n",
    "      text_generated.append(index2char[predicted_id])\n",
    "\n",
    "  return (start_string + ''.join(text_generated))"
   ]
  },
  {
   "cell_type": "code",
   "execution_count": 25,
   "metadata": {},
   "outputs": [
    {
     "name": "stdout",
     "output_type": "stream",
     "text": [
      "Hermoine was unable to understand that he was supposed to be difficult to decide the scene was still tiny the rest of the window .The end of the room which was now burned in the firelight .I dont think so said Dumbledore .I dont think help you to come back to the potion when he was talking about said Harry .Were going to get to the school and that Harry was sure that they wouldve left the dungeon than the others were still the back to the back and the silver handkerchief and screaming with a roar of furry gate in his fingers and fell asleep with a twisted skin made him as he had drawn rows of firewhisky .Harry was staring at him .Its a lot of people are again in the school when they had left the pictures of Inferi to get the hall .Why did they ?Harry saw the last of the others the only thing at all .I believe that she knew what was happening to make him feel over the last time .He had been hoping to be stringed around the room he could not answer .I wonder what we had to go back to the wizard was almost immediately at\n"
     ]
    }
   ],
   "source": [
    "print(generate_text(model, start_string=u\"Hermoine was unable to understand\"))"
   ]
  }
 ],
 "metadata": {
  "kernelspec": {
   "display_name": "base",
   "language": "python",
   "name": "python3"
  },
  "language_info": {
   "codemirror_mode": {
    "name": "ipython",
    "version": 3
   },
   "file_extension": ".py",
   "mimetype": "text/x-python",
   "name": "python",
   "nbconvert_exporter": "python",
   "pygments_lexer": "ipython3",
   "version": "3.11.5"
  },
  "orig_nbformat": 4,
  "vscode": {
   "interpreter": {
    "hash": "2e430f0ad9665160f67d6dc54854f24c99914292813d9864631e0bb649b1aa1c"
   }
  }
 },
 "nbformat": 4,
 "nbformat_minor": 2
}
